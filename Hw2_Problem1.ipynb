{
  "nbformat": 4,
  "nbformat_minor": 0,
  "metadata": {
    "colab": {
      "name": "Hw2_Problem1.ipynb",
      "provenance": [],
      "collapsed_sections": [],
      "include_colab_link": true
    },
    "kernelspec": {
      "name": "python3",
      "display_name": "Python 3"
    }
  },
  "cells": [
    {
      "cell_type": "markdown",
      "metadata": {
        "id": "view-in-github",
        "colab_type": "text"
      },
      "source": [
        "<a href=\"https://colab.research.google.com/github/GCGuillen/AiGoogleColab/blob/master/Hw2_Problem1.ipynb\" target=\"_parent\"><img src=\"https://colab.research.google.com/assets/colab-badge.svg\" alt=\"Open In Colab\"/></a>"
      ]
    },
    {
      "cell_type": "markdown",
      "metadata": {
        "id": "JB-9IJQrng3A",
        "colab_type": "text"
      },
      "source": [
        "Problem 1\n",
        "\n",
        "Come up with handcrafted features for the MNIST digit classificiation problem and use them in a simple model consisting of a single dense layer with softmax activation.\n",
        "\n",
        "Let x be the matrix representing a image of a MNIST digit. Let vec(x) denote the flattened matrix x.\n",
        "\n",
        "Your baseline model is the simple model that takes only vec(x) as input. The goal is to improve the accuracy of the simple model by augmenting the input vec(x) with hand-crafted features.\n",
        "\n",
        "Say, f1, f2, ..., fm are your hand-crafted features. The augmented input vector is then obtained by stacking vec(x) and the vector (f1, f2, ..., fm). You can use the numpy command np.concatentate to stack vectors.\n",
        "\n",
        "The features could be:\n",
        "\n",
        "width of digit (normalized to be in the range (0, 1)\n",
        "height of digit (normalized to be in the range (0, 1)\n",
        "number of white regions (a typical 8 has three, a typical 6 has two components, and 2 has 1), average intensity, etc.\n",
        "note the you can one-hot encode the number of connected components as follows: b1 = 1 iff num = 1, b2 = 1 if num = 2, b3 = 1 if num = 3, and b = 1 if num = 0 or num >= 4 (the latter case should normally not occur for well-formed digits); this is probably better than have just a single feature num / 3.\n",
        "The problem of computing the number of independent white regions is a basic problem for job interviews. It boils down to computing connected components of the following graph. The vertices of the graph correspond to the pixels and are denoted by (i, j), which is the position of the pixel. Two vertices (i, j) and (i', j') are connected iff |i - i'| <= 1 and |j - j'| <= 1. If a pixel at position (i, j) is black, then remove it together with its edges.\n",
        "\n",
        "You have to compute the number of connected components for the 60 thousand images. So make sure that your code is efficient."
      ]
    }
  ]
}