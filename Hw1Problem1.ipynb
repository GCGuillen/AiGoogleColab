{
  "nbformat": 4,
  "nbformat_minor": 0,
  "metadata": {
    "colab": {
      "name": "Hw1Problem1.ipynb",
      "provenance": [],
      "collapsed_sections": []
    },
    "kernelspec": {
      "name": "python3",
      "display_name": "Python 3"
    }
  },
  "cells": [
    {
      "cell_type": "code",
      "metadata": {
        "id": "TXfpk8y1pC65",
        "colab_type": "code",
        "colab": {}
      },
      "source": [
        ""
      ],
      "execution_count": 0,
      "outputs": []
    },
    {
      "cell_type": "markdown",
      "metadata": {
        "id": "lLDe6kPlpGaX",
        "colab_type": "text"
      },
      "source": [
        "Problem 1\n",
        "\n",
        "Find three simple functions from R^2 to R and suitable points that are:\n",
        "\n",
        "a local minimum\n",
        "a local maximum\n",
        "neither a minimum nor maximum, but the gradient is zero at this point.\n",
        "Plot these functions using 3D plots as in the notebooks for creating density and contour plots and three dimensional plots. Indicate clearly the points. Use 2d and 3d contour plots.\n",
        "\n",
        "Extra work: The gradient is a function from R^2 to R^2 so you cannot use any of the above methods to visualize it. However, you can use the python quiver package to visualize a so-called vector field. Check out the simple quiver demo.\n",
        "\n",
        "Draw the gradients for your functions using quiver.\n",
        "\n",
        "Extra work: Extend the notebook for experimenting with different learning rate to functions from R^2 to R."
      ]
    }
  ]
}