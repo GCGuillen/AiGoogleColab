{
  "nbformat": 4,
  "nbformat_minor": 0,
  "metadata": {
    "colab": {
      "name": "Hw2_Problem2.ipynb",
      "provenance": [],
      "collapsed_sections": [],
      "include_colab_link": true
    },
    "kernelspec": {
      "name": "python3",
      "display_name": "Python 3"
    },
    "accelerator": "GPU"
  },
  "cells": [
    {
      "cell_type": "markdown",
      "metadata": {
        "id": "view-in-github",
        "colab_type": "text"
      },
      "source": [
        "<a href=\"https://colab.research.google.com/github/GCGuillen/AiGoogleColab/blob/master/Hw2_Problem2.ipynb\" target=\"_parent\"><img src=\"https://colab.research.google.com/assets/colab-badge.svg\" alt=\"Open In Colab\"/></a>"
      ]
    },
    {
      "cell_type": "markdown",
      "metadata": {
        "id": "4tuQwVeSnvfQ",
        "colab_type": "text"
      },
      "source": [
        "Problem 2\n",
        "\n",
        "Modify the network architecture in the notebook for classifying MNIST fashion items with dense layers and analyzing model performance by varying the number of hidden layers and choosing different sizes for the hidden layers.\n",
        "\n",
        "Give three models consisting of only dense layers that\n",
        "\n",
        "first model underfits (the model is too simple and cannot explain the data)\n",
        "second model overfits (the model is unnecessarily complex so it can easily adapt too much to the training data)\n",
        "third is pretty good (the model is either too simple, nor too complex; you don't train for too many epochs; you use dropout to fight overfitting)\n",
        "Make sure that you plot the curves depicting the training/validation accuracy/loss."
      ]
    },
    {
      "cell_type": "code",
      "metadata": {
        "id": "YfnxHyp46L4y",
        "colab_type": "code",
        "outputId": "7d6bec6a-6541-4932-f369-ac65a6f344ed",
        "colab": {
          "base_uri": "https://localhost:8080/",
          "height": 205
        }
      },
      "source": [
        "import tensorflow as tf\n",
        "from tensorflow import keras\n",
        "\n",
        "fashion_mnist = keras.datasets.fashion_mnist\n",
        "\n",
        "(train_images_original, train_labels), (test_images_original, test_labels) = fashion_mnist.load_data()"
      ],
      "execution_count": 0,
      "outputs": [
        {
          "output_type": "display_data",
          "data": {
            "text/html": [
              "<p style=\"color: red;\">\n",
              "The default version of TensorFlow in Colab will soon switch to TensorFlow 2.x.<br>\n",
              "We recommend you <a href=\"https://www.tensorflow.org/guide/migrate\" target=\"_blank\">upgrade</a> now \n",
              "or ensure your notebook will continue to use TensorFlow 1.x via the <code>%tensorflow_version 1.x</code> magic:\n",
              "<a href=\"https://colab.research.google.com/notebooks/tensorflow_version.ipynb\" target=\"_blank\">more info</a>.</p>\n"
            ],
            "text/plain": [
              "<IPython.core.display.HTML object>"
            ]
          },
          "metadata": {
            "tags": []
          }
        },
        {
          "output_type": "stream",
          "text": [
            "Downloading data from https://storage.googleapis.com/tensorflow/tf-keras-datasets/train-labels-idx1-ubyte.gz\n",
            "32768/29515 [=================================] - 0s 0us/step\n",
            "Downloading data from https://storage.googleapis.com/tensorflow/tf-keras-datasets/train-images-idx3-ubyte.gz\n",
            "26427392/26421880 [==============================] - 0s 0us/step\n",
            "Downloading data from https://storage.googleapis.com/tensorflow/tf-keras-datasets/t10k-labels-idx1-ubyte.gz\n",
            "8192/5148 [===============================================] - 0s 0us/step\n",
            "Downloading data from https://storage.googleapis.com/tensorflow/tf-keras-datasets/t10k-images-idx3-ubyte.gz\n",
            "4423680/4422102 [==============================] - 0s 0us/step\n"
          ],
          "name": "stdout"
        }
      ]
    },
    {
      "cell_type": "code",
      "metadata": {
        "id": "tciN_O_36311",
        "colab_type": "code",
        "colab": {}
      },
      "source": [
        "import matplotlib.pyplot as plt\n",
        "import numpy as np"
      ],
      "execution_count": 0,
      "outputs": []
    },
    {
      "cell_type": "code",
      "metadata": {
        "id": "-0BlENBB6SK_",
        "colab_type": "code",
        "outputId": "85b9e4af-cef1-432c-8e64-e14186492c89",
        "colab": {
          "base_uri": "https://localhost:8080/",
          "height": 34
        }
      },
      "source": [
        "train_images_original.shape"
      ],
      "execution_count": 0,
      "outputs": [
        {
          "output_type": "execute_result",
          "data": {
            "text/plain": [
              "(60000, 28, 28)"
            ]
          },
          "metadata": {
            "tags": []
          },
          "execution_count": 5
        }
      ]
    },
    {
      "cell_type": "code",
      "metadata": {
        "id": "DHBn9akc6VKM",
        "colab_type": "code",
        "outputId": "fe455234-204e-4225-8fda-874696f81fcd",
        "colab": {
          "base_uri": "https://localhost:8080/",
          "height": 34
        }
      },
      "source": [
        "len(train_images_original)"
      ],
      "execution_count": 0,
      "outputs": [
        {
          "output_type": "execute_result",
          "data": {
            "text/plain": [
              "60000"
            ]
          },
          "metadata": {
            "tags": []
          },
          "execution_count": 6
        }
      ]
    },
    {
      "cell_type": "code",
      "metadata": {
        "id": "Uv6N8bWQ6b6d",
        "colab_type": "code",
        "outputId": "d5cc7d55-ace9-41ea-8860-b3d9fcee7077",
        "colab": {
          "base_uri": "https://localhost:8080/",
          "height": 34
        }
      },
      "source": [
        "train_images_original.ndim"
      ],
      "execution_count": 0,
      "outputs": [
        {
          "output_type": "execute_result",
          "data": {
            "text/plain": [
              "3"
            ]
          },
          "metadata": {
            "tags": []
          },
          "execution_count": 7
        }
      ]
    },
    {
      "cell_type": "code",
      "metadata": {
        "id": "8wDj34la6c3S",
        "colab_type": "code",
        "outputId": "8a409ff0-13a8-4007-8f91-ae9ce2dc128e",
        "colab": {
          "base_uri": "https://localhost:8080/",
          "height": 34
        }
      },
      "source": [
        "train_images_original.dtype"
      ],
      "execution_count": 0,
      "outputs": [
        {
          "output_type": "execute_result",
          "data": {
            "text/plain": [
              "dtype('uint8')"
            ]
          },
          "metadata": {
            "tags": []
          },
          "execution_count": 8
        }
      ]
    },
    {
      "cell_type": "code",
      "metadata": {
        "id": "2zaZKUos6etq",
        "colab_type": "code",
        "outputId": "0c7c580c-f291-489e-f0af-5c6ee0963cb0",
        "colab": {
          "base_uri": "https://localhost:8080/",
          "height": 34
        }
      },
      "source": [
        "train_labels"
      ],
      "execution_count": 0,
      "outputs": [
        {
          "output_type": "execute_result",
          "data": {
            "text/plain": [
              "array([9, 0, 0, ..., 3, 0, 5], dtype=uint8)"
            ]
          },
          "metadata": {
            "tags": []
          },
          "execution_count": 9
        }
      ]
    },
    {
      "cell_type": "code",
      "metadata": {
        "id": "i727WX9v6hfm",
        "colab_type": "code",
        "outputId": "6d27cded-84cd-400c-feec-024588e4e885",
        "colab": {
          "base_uri": "https://localhost:8080/",
          "height": 34
        }
      },
      "source": [
        "len(train_labels)"
      ],
      "execution_count": 0,
      "outputs": [
        {
          "output_type": "execute_result",
          "data": {
            "text/plain": [
              "60000"
            ]
          },
          "metadata": {
            "tags": []
          },
          "execution_count": 10
        }
      ]
    },
    {
      "cell_type": "code",
      "metadata": {
        "id": "IJh687gn6xpw",
        "colab_type": "code",
        "colab": {}
      },
      "source": [
        "class_names = ['T-shirt/top', 'Trouser', 'Pullover', 'Dress', 'Coat',\n",
        "               'Sandal', 'Shirt', 'Sneaker', 'Bag', 'Ankle boot']"
      ],
      "execution_count": 0,
      "outputs": []
    },
    {
      "cell_type": "code",
      "metadata": {
        "id": "FkO4Ra9_60fB",
        "colab_type": "code",
        "outputId": "9434656e-0bba-4d20-ede8-2c11026f87c6",
        "colab": {
          "base_uri": "https://localhost:8080/",
          "height": 588
        }
      },
      "source": [
        "plt.figure(figsize=(10,10))\n",
        "indices = np.random.choice(np.arange(60000), size=25, replace=False)\n",
        "for i in range(25):\n",
        "    plt.subplot(5,5,i+1)\n",
        "    plt.xticks([])\n",
        "    plt.yticks([])\n",
        "    plt.grid(False)\n",
        "    plt.imshow(train_images_original[i], cmap=plt.cm.binary)\n",
        "    plt.xlabel(class_names[train_labels[i]])\n",
        "plt.show()"
      ],
      "execution_count": 0,
      "outputs": [
        {
          "output_type": "display_data",
          "data": {
            "image/png": "[encoded data removed]",
            "text/plain": [
              "<Figure size 720x720 with 25 Axes>"
            ]
          },
          "metadata": {
            "tags": []
          }
        }
      ]
    },
    {
      "cell_type": "code",
      "metadata": {
        "id": "DsT-oGds7J5U",
        "colab_type": "code",
        "outputId": "f3d6a7df-cfc8-4171-a3c8-caa62f828f6f",
        "colab": {
          "base_uri": "https://localhost:8080/",
          "height": 264
        }
      },
      "source": [
        "plt.figure()\n",
        "plt.imshow(train_images_original[0])\n",
        "plt.colorbar()\n",
        "plt.grid(False)\n",
        "plt.show()"
      ],
      "execution_count": 0,
      "outputs": [
        {
          "output_type": "display_data",
          "data": {
            "image/png": "[encoded data removed]",
            "text/plain": [
              "<Figure size 432x288 with 2 Axes>"
            ]
          },
          "metadata": {
            "tags": []
          }
        }
      ]
    },
    {
      "cell_type": "code",
      "metadata": {
        "id": "LlKtV_wv8R2g",
        "colab_type": "code",
        "colab": {}
      },
      "source": [
        "train_images = train_images_original.reshape((60000, 28* 28)) / 255.0\n",
        "test_images = test_images_original.reshape((10000, 28 *28)) / 255.0"
      ],
      "execution_count": 0,
      "outputs": []
    },
    {
      "cell_type": "code",
      "metadata": {
        "id": "TD9zuwoAt2KD",
        "colab_type": "code",
        "outputId": "3a2309ea-77c2-4067-9dd9-13e84b18ffcb",
        "colab": {
          "base_uri": "https://localhost:8080/",
          "height": 34
        }
      },
      "source": [
        "train_images_original.shape"
      ],
      "execution_count": 0,
      "outputs": [
        {
          "output_type": "execute_result",
          "data": {
            "text/plain": [
              "(60000, 28, 28)"
            ]
          },
          "metadata": {
            "tags": []
          },
          "execution_count": 15
        }
      ]
    },
    {
      "cell_type": "code",
      "metadata": {
        "id": "woLSrJFht6dT",
        "colab_type": "code",
        "outputId": "45a67957-8052-428e-b3ce-a49078388a27",
        "colab": {
          "base_uri": "https://localhost:8080/",
          "height": 34
        }
      },
      "source": [
        "train_images_original.dtype"
      ],
      "execution_count": 0,
      "outputs": [
        {
          "output_type": "execute_result",
          "data": {
            "text/plain": [
              "dtype('uint8')"
            ]
          },
          "metadata": {
            "tags": []
          },
          "execution_count": 16
        }
      ]
    },
    {
      "cell_type": "markdown",
      "metadata": {
        "id": "10JKa7f0AuFE",
        "colab_type": "text"
      },
      "source": [
        "#This is for the over fit."
      ]
    },
    {
      "cell_type": "code",
      "metadata": {
        "id": "LiNwIIuM8OUG",
        "colab_type": "code",
        "outputId": "e442f8c3-e0e9-4156-d908-0d645a9a81ed",
        "colab": {
          "base_uri": "https://localhost:8080/",
          "height": 410
        }
      },
      "source": [
        "# set up the layers\n",
        "\n",
        "model = keras.Sequential([\n",
        "    keras.layers.Dense(64, activation='relu', input_shape=(28*28,)),\n",
        "    keras.layers.Dense(64, activation='relu'),\n",
        "    keras.layers.Dense(24, activation='relu'),\n",
        "    keras.layers.Dropout(.2),\n",
        "    keras.layers.Dense(10, activation='softmax')\n",
        "])\n",
        "model.summary()"
      ],
      "execution_count": 0,
      "outputs": [
        {
          "output_type": "stream",
          "text": [
            "WARNING:tensorflow:From /usr/local/lib/python3.6/dist-packages/tensorflow_core/python/ops/resource_variable_ops.py:1630: calling BaseResourceVariable.__init__ (from tensorflow.python.ops.resource_variable_ops) with constraint is deprecated and will be removed in a future version.\n",
            "Instructions for updating:\n",
            "If using Keras pass *_constraint arguments to layers.\n",
            "Model: \"sequential\"\n",
            "_________________________________________________________________\n",
            "Layer (type)                 Output Shape              Param #   \n",
            "=================================================================\n",
            "dense (Dense)                (None, 64)                50240     \n",
            "_________________________________________________________________\n",
            "dense_1 (Dense)              (None, 64)                4160      \n",
            "_________________________________________________________________\n",
            "dense_2 (Dense)              (None, 24)                1560      \n",
            "_________________________________________________________________\n",
            "dropout (Dropout)            (None, 24)                0         \n",
            "_________________________________________________________________\n",
            "dense_3 (Dense)              (None, 10)                250       \n",
            "=================================================================\n",
            "Total params: 56,210\n",
            "Trainable params: 56,210\n",
            "Non-trainable params: 0\n",
            "_________________________________________________________________\n"
          ],
          "name": "stdout"
        }
      ]
    },
    {
      "cell_type": "code",
      "metadata": {
        "id": "dic6ZQH08Xg9",
        "colab_type": "code",
        "colab": {}
      },
      "source": [
        "# compile the model\n",
        "\n",
        "model.compile(optimizer='adam',\n",
        "             loss='sparse_categorical_crossentropy',\n",
        "             metrics=['accuracy'])"
      ],
      "execution_count": 0,
      "outputs": []
    },
    {
      "cell_type": "code",
      "metadata": {
        "id": "aR0kGQRR8_-W",
        "colab_type": "code",
        "outputId": "2ef55a8d-c062-4e22-fa1f-78bb956af656",
        "colab": {
          "base_uri": "https://localhost:8080/",
          "height": 765
        }
      },
      "source": [
        "# train the model\n",
        "epochs = 20\n",
        "history = model.fit(train_images, \n",
        "                      train_labels, \n",
        "                      epochs=epochs,  \n",
        "                      validation_data=(test_images, test_labels))"
      ],
      "execution_count": 0,
      "outputs": [
        {
          "output_type": "stream",
          "text": [
            "Train on 60000 samples, validate on 10000 samples\n",
            "Epoch 1/20\n",
            "60000/60000 [==============================] - 8s 125us/sample - loss: 0.6229 - acc: 0.7788 - val_loss: 0.4544 - val_acc: 0.8355\n",
            "Epoch 2/20\n",
            "60000/60000 [==============================] - 7s 113us/sample - loss: 0.4433 - acc: 0.8426 - val_loss: 0.4085 - val_acc: 0.8579\n",
            "Epoch 3/20\n",
            "60000/60000 [==============================] - 7s 116us/sample - loss: 0.4012 - acc: 0.8569 - val_loss: 0.3723 - val_acc: 0.8622\n",
            "Epoch 4/20\n",
            "60000/60000 [==============================] - 7s 114us/sample - loss: 0.3720 - acc: 0.8662 - val_loss: 0.3789 - val_acc: 0.8603\n",
            "Epoch 5/20\n",
            "60000/60000 [==============================] - 7s 115us/sample - loss: 0.3525 - acc: 0.8730 - val_loss: 0.3749 - val_acc: 0.8673\n",
            "Epoch 6/20\n",
            "60000/60000 [==============================] - 7s 113us/sample - loss: 0.3364 - acc: 0.8790 - val_loss: 0.3591 - val_acc: 0.8682\n",
            "Epoch 7/20\n",
            "60000/60000 [==============================] - 7s 113us/sample - loss: 0.3226 - acc: 0.8836 - val_loss: 0.3642 - val_acc: 0.8687\n",
            "Epoch 8/20\n",
            "60000/60000 [==============================] - 7s 114us/sample - loss: 0.3119 - acc: 0.8863 - val_loss: 0.3855 - val_acc: 0.8651\n",
            "Epoch 9/20\n",
            "60000/60000 [==============================] - 7s 113us/sample - loss: 0.3042 - acc: 0.8892 - val_loss: 0.3405 - val_acc: 0.8799\n",
            "Epoch 10/20\n",
            "60000/60000 [==============================] - 7s 118us/sample - loss: 0.2937 - acc: 0.8921 - val_loss: 0.3462 - val_acc: 0.8736\n",
            "Epoch 11/20\n",
            "60000/60000 [==============================] - 8s 125us/sample - loss: 0.2859 - acc: 0.8943 - val_loss: 0.3361 - val_acc: 0.8819\n",
            "Epoch 12/20\n",
            "60000/60000 [==============================] - 7s 114us/sample - loss: 0.2765 - acc: 0.8977 - val_loss: 0.3491 - val_acc: 0.8745\n",
            "Epoch 13/20\n",
            "60000/60000 [==============================] - 7s 115us/sample - loss: 0.2738 - acc: 0.9003 - val_loss: 0.3516 - val_acc: 0.8796\n",
            "Epoch 14/20\n",
            "60000/60000 [==============================] - 7s 113us/sample - loss: 0.2694 - acc: 0.9011 - val_loss: 0.3409 - val_acc: 0.8819\n",
            "Epoch 15/20\n",
            "60000/60000 [==============================] - 7s 115us/sample - loss: 0.2622 - acc: 0.9032 - val_loss: 0.3470 - val_acc: 0.8755\n",
            "Epoch 16/20\n",
            "60000/60000 [==============================] - 7s 113us/sample - loss: 0.2551 - acc: 0.9061 - val_loss: 0.3549 - val_acc: 0.8848\n",
            "Epoch 17/20\n",
            "60000/60000 [==============================] - 7s 116us/sample - loss: 0.2527 - acc: 0.9063 - val_loss: 0.3504 - val_acc: 0.8858\n",
            "Epoch 18/20\n",
            "60000/60000 [==============================] - 7s 117us/sample - loss: 0.2472 - acc: 0.9089 - val_loss: 0.3457 - val_acc: 0.8829\n",
            "Epoch 19/20\n",
            "60000/60000 [==============================] - 7s 114us/sample - loss: 0.2426 - acc: 0.9116 - val_loss: 0.3571 - val_acc: 0.8765\n",
            "Epoch 20/20\n",
            "60000/60000 [==============================] - 7s 115us/sample - loss: 0.2367 - acc: 0.9118 - val_loss: 0.3749 - val_acc: 0.8803\n"
          ],
          "name": "stdout"
        }
      ]
    },
    {
      "cell_type": "code",
      "metadata": {
        "id": "162IPcBf9CHi",
        "colab_type": "code",
        "outputId": "5bdd8121-dbf6-48bb-9594-2f88f4d51395",
        "colab": {
          "base_uri": "https://localhost:8080/",
          "height": 52
        }
      },
      "source": [
        "test_loss, test_acc = model.evaluate(test_images, test_labels)\n",
        "\n",
        "print('Test accuracy:', test_acc)"
      ],
      "execution_count": 0,
      "outputs": [
        {
          "output_type": "stream",
          "text": [
            "10000/10000 [==============================] - 1s 63us/sample - loss: 0.3749 - acc: 0.8803\n",
            "Test accuracy: 0.8803\n"
          ],
          "name": "stdout"
        }
      ]
    },
    {
      "cell_type": "code",
      "metadata": {
        "id": "Y_OvRnkD9Kx7",
        "colab_type": "code",
        "colab": {}
      },
      "source": [
        "history_dict = history.history\n",
        "loss_values = history_dict['loss']\n",
        "test_loss_values = history_dict['val_loss']\n",
        "epochs_range = range(1, epochs+1)"
      ],
      "execution_count": 0,
      "outputs": []
    },
    {
      "cell_type": "code",
      "metadata": {
        "id": "1nCWFouk9OPA",
        "colab_type": "code",
        "outputId": "a85cd986-fc53-49cb-f74b-58ce217de074",
        "colab": {
          "base_uri": "https://localhost:8080/",
          "height": 294
        }
      },
      "source": [
        "plt.plot(epochs_range, loss_values, 'bo', label='Training loss')\n",
        "plt.plot(epochs_range, test_loss_values, 'ro', label='Test loss')\n",
        "plt.title('Training and test loss')\n",
        "plt.xlabel('Epochs')\n",
        "plt.ylabel('Loss')\n",
        "plt.legend()\n",
        "plt.show()"
      ],
      "execution_count": 0,
      "outputs": [
        {
          "output_type": "display_data",
          "data": {
            "image/png": "[encoded data removed]",
            "text/plain": [
              "<Figure size 432x288 with 1 Axes>"
            ]
          },
          "metadata": {
            "tags": []
          }
        }
      ]
    },
    {
      "cell_type": "code",
      "metadata": {
        "id": "B6AKT2Z99P7D",
        "colab_type": "code",
        "colab": {}
      },
      "source": [
        "acc_values = history_dict['acc']\n",
        "test_acc_values = history_dict['val_acc']"
      ],
      "execution_count": 0,
      "outputs": []
    },
    {
      "cell_type": "code",
      "metadata": {
        "id": "Ot54zq9l9RnH",
        "colab_type": "code",
        "outputId": "bf62ad36-d016-4b65-d93a-13347986e7e0",
        "colab": {
          "base_uri": "https://localhost:8080/",
          "height": 294
        }
      },
      "source": [
        "plt.plot(epochs_range, acc_values, 'bo', label='Training accuracy')\n",
        "plt.plot(epochs_range, test_acc_values, 'ro', label='Test accuracy')\n",
        "plt.title('Training and test accuracy')\n",
        "plt.xlabel('Epochs')\n",
        "plt.ylabel('Accuracy')\n",
        "plt.legend()\n",
        "plt.show()"
      ],
      "execution_count": 0,
      "outputs": [
        {
          "output_type": "display_data",
          "data": {
            "image/png": "[encoded data removed]",
            "text/plain": [
              "<Figure size 432x288 with 1 Axes>"
            ]
          },
          "metadata": {
            "tags": []
          }
        }
      ]
    },
    {
      "cell_type": "code",
      "metadata": {
        "id": "SGE7-wB9BvMh",
        "colab_type": "code",
        "colab": {}
      },
      "source": [
        ""
      ],
      "execution_count": 0,
      "outputs": []
    },
    {
      "cell_type": "markdown",
      "metadata": {
        "colab_type": "text",
        "id": "nG4HfPZ4BwZJ"
      },
      "source": [
        "#This is for the regular fit."
      ]
    },
    {
      "cell_type": "code",
      "metadata": {
        "colab_type": "code",
        "outputId": "e2eb4a9c-25e4-4edb-82d8-a6efb6a6aec9",
        "id": "nrE6yWpJBwZM",
        "colab": {
          "base_uri": "https://localhost:8080/",
          "height": 336
        }
      },
      "source": [
        "# set up the layers\n",
        "\n",
        "model = keras.Sequential([\n",
        "    keras.layers.Dense(128, activation='relu', input_shape=(28*28,)),\n",
        "    keras.layers.Dropout(.275),\n",
        "    keras.layers.Dense(28, activation='relu'),\n",
        "    keras.layers.Dropout(.2),\n",
        "    keras.layers.Dense(10, activation='softmax')\n",
        "])\n",
        "model.summary()"
      ],
      "execution_count": 0,
      "outputs": [
        {
          "output_type": "stream",
          "text": [
            "Model: \"sequential_1\"\n",
            "_________________________________________________________________\n",
            "Layer (type)                 Output Shape              Param #   \n",
            "=================================================================\n",
            "dense_4 (Dense)              (None, 128)               100480    \n",
            "_________________________________________________________________\n",
            "dropout_1 (Dropout)          (None, 128)               0         \n",
            "_________________________________________________________________\n",
            "dense_5 (Dense)              (None, 28)                3612      \n",
            "_________________________________________________________________\n",
            "dropout_2 (Dropout)          (None, 28)                0         \n",
            "_________________________________________________________________\n",
            "dense_6 (Dense)              (None, 10)                290       \n",
            "=================================================================\n",
            "Total params: 104,382\n",
            "Trainable params: 104,382\n",
            "Non-trainable params: 0\n",
            "_________________________________________________________________\n"
          ],
          "name": "stdout"
        }
      ]
    },
    {
      "cell_type": "code",
      "metadata": {
        "colab_type": "code",
        "id": "_ZZvCrahBwZU",
        "colab": {}
      },
      "source": [
        "# compile the model\n",
        "\n",
        "model.compile(optimizer='adam',\n",
        "             loss='sparse_categorical_crossentropy',\n",
        "             metrics=['accuracy'])"
      ],
      "execution_count": 0,
      "outputs": []
    },
    {
      "cell_type": "code",
      "metadata": {
        "colab_type": "code",
        "outputId": "b3f1f743-4590-4c80-e780-4b912c6fb35a",
        "id": "Qy5X7eLRBwZZ",
        "colab": {
          "base_uri": "https://localhost:8080/",
          "height": 765
        }
      },
      "source": [
        "# train the model\n",
        "epochs = 20\n",
        "history = model.fit(train_images, \n",
        "                      train_labels, \n",
        "                      epochs=epochs,  \n",
        "                      validation_data=(test_images, test_labels))"
      ],
      "execution_count": 0,
      "outputs": [
        {
          "output_type": "stream",
          "text": [
            "Train on 60000 samples, validate on 10000 samples\n",
            "Epoch 1/20\n",
            "60000/60000 [==============================] - 7s 114us/sample - loss: 0.6598 - acc: 0.7693 - val_loss: 0.4480 - val_acc: 0.8362\n",
            "Epoch 2/20\n",
            "60000/60000 [==============================] - 7s 113us/sample - loss: 0.4709 - acc: 0.8325 - val_loss: 0.4152 - val_acc: 0.8512\n",
            "Epoch 3/20\n",
            "60000/60000 [==============================] - 7s 113us/sample - loss: 0.4331 - acc: 0.8468 - val_loss: 0.3954 - val_acc: 0.8559\n",
            "Epoch 4/20\n",
            "60000/60000 [==============================] - 7s 115us/sample - loss: 0.4118 - acc: 0.8536 - val_loss: 0.3790 - val_acc: 0.8645\n",
            "Epoch 5/20\n",
            "60000/60000 [==============================] - 7s 113us/sample - loss: 0.3928 - acc: 0.8597 - val_loss: 0.3738 - val_acc: 0.8656\n",
            "Epoch 6/20\n",
            "60000/60000 [==============================] - 7s 114us/sample - loss: 0.3821 - acc: 0.8633 - val_loss: 0.3605 - val_acc: 0.8678\n",
            "Epoch 7/20\n",
            "60000/60000 [==============================] - 7s 116us/sample - loss: 0.3689 - acc: 0.8680 - val_loss: 0.3546 - val_acc: 0.8723\n",
            "Epoch 8/20\n",
            "60000/60000 [==============================] - 7s 114us/sample - loss: 0.3597 - acc: 0.8703 - val_loss: 0.3776 - val_acc: 0.8614\n",
            "Epoch 9/20\n",
            "60000/60000 [==============================] - 7s 114us/sample - loss: 0.3530 - acc: 0.8704 - val_loss: 0.3473 - val_acc: 0.8744\n",
            "Epoch 10/20\n",
            "60000/60000 [==============================] - 7s 114us/sample - loss: 0.3440 - acc: 0.8762 - val_loss: 0.3489 - val_acc: 0.8737\n",
            "Epoch 11/20\n",
            "60000/60000 [==============================] - 7s 114us/sample - loss: 0.3389 - acc: 0.8780 - val_loss: 0.3632 - val_acc: 0.8683\n",
            "Epoch 12/20\n",
            "60000/60000 [==============================] - 7s 114us/sample - loss: 0.3331 - acc: 0.8801 - val_loss: 0.3482 - val_acc: 0.8743\n",
            "Epoch 13/20\n",
            "60000/60000 [==============================] - 7s 114us/sample - loss: 0.3316 - acc: 0.8796 - val_loss: 0.3338 - val_acc: 0.8826\n",
            "Epoch 14/20\n",
            "60000/60000 [==============================] - 7s 115us/sample - loss: 0.3265 - acc: 0.8818 - val_loss: 0.3582 - val_acc: 0.8769\n",
            "Epoch 15/20\n",
            "60000/60000 [==============================] - 7s 114us/sample - loss: 0.3201 - acc: 0.8838 - val_loss: 0.3415 - val_acc: 0.8804\n",
            "Epoch 16/20\n",
            "60000/60000 [==============================] - 7s 113us/sample - loss: 0.3195 - acc: 0.8842 - val_loss: 0.3472 - val_acc: 0.8776\n",
            "Epoch 17/20\n",
            "60000/60000 [==============================] - 7s 114us/sample - loss: 0.3149 - acc: 0.8853 - val_loss: 0.3360 - val_acc: 0.8840\n",
            "Epoch 18/20\n",
            "60000/60000 [==============================] - 7s 114us/sample - loss: 0.3095 - acc: 0.8867 - val_loss: 0.3420 - val_acc: 0.8821\n",
            "Epoch 19/20\n",
            "60000/60000 [==============================] - 7s 115us/sample - loss: 0.3052 - acc: 0.8880 - val_loss: 0.3479 - val_acc: 0.8791\n",
            "Epoch 20/20\n",
            "60000/60000 [==============================] - 7s 114us/sample - loss: 0.3084 - acc: 0.8875 - val_loss: 0.3510 - val_acc: 0.8815\n"
          ],
          "name": "stdout"
        }
      ]
    },
    {
      "cell_type": "code",
      "metadata": {
        "colab_type": "code",
        "outputId": "ef0c477f-d680-4580-a452-5c6b93a36aa6",
        "id": "Nv93G91cBwZe",
        "colab": {
          "base_uri": "https://localhost:8080/",
          "height": 52
        }
      },
      "source": [
        "test_loss, test_acc = model.evaluate(test_images, test_labels)\n",
        "\n",
        "print('Test accuracy:', test_acc)"
      ],
      "execution_count": 0,
      "outputs": [
        {
          "output_type": "stream",
          "text": [
            "10000/10000 [==============================] - 1s 68us/sample - loss: 0.3510 - acc: 0.8815\n",
            "Test accuracy: 0.8815\n"
          ],
          "name": "stdout"
        }
      ]
    },
    {
      "cell_type": "code",
      "metadata": {
        "colab_type": "code",
        "id": "9CE15uS7BwZh",
        "colab": {}
      },
      "source": [
        "history_dict = history.history\n",
        "loss_values = history_dict['loss']\n",
        "test_loss_values = history_dict['val_loss']\n",
        "epochs_range = range(1, epochs+1)"
      ],
      "execution_count": 0,
      "outputs": []
    },
    {
      "cell_type": "code",
      "metadata": {
        "colab_type": "code",
        "outputId": "a62c0c05-435f-4189-c8b8-c9e80faac3f9",
        "id": "WgwJOPg5BwZj",
        "colab": {
          "base_uri": "https://localhost:8080/",
          "height": 294
        }
      },
      "source": [
        "plt.plot(epochs_range, loss_values, 'bo', label='Training loss')\n",
        "plt.plot(epochs_range, test_loss_values, 'ro', label='Test loss')\n",
        "plt.title('Training and test loss')\n",
        "plt.xlabel('Epochs')\n",
        "plt.ylabel('Loss')\n",
        "plt.legend()\n",
        "plt.show()"
      ],
      "execution_count": 0,
      "outputs": [
        {
          "output_type": "display_data",
          "data": {
            "image/png": "[encoded data removed]",
            "text/plain": [
              "<Figure size 432x288 with 1 Axes>"
            ]
          },
          "metadata": {
            "tags": []
          }
        }
      ]
    },
    {
      "cell_type": "code",
      "metadata": {
        "colab_type": "code",
        "id": "blaM73OMBwZp",
        "colab": {}
      },
      "source": [
        "acc_values = history_dict['acc']\n",
        "test_acc_values = history_dict['val_acc']"
      ],
      "execution_count": 0,
      "outputs": []
    },
    {
      "cell_type": "code",
      "metadata": {
        "colab_type": "code",
        "outputId": "d984b330-7e05-4599-9c5e-a41cfed75e09",
        "id": "EwyYYdAuBwZr",
        "colab": {
          "base_uri": "https://localhost:8080/",
          "height": 294
        }
      },
      "source": [
        "plt.plot(epochs_range, acc_values, 'bo', label='Training accuracy')\n",
        "plt.plot(epochs_range, test_acc_values, 'ro', label='Test accuracy')\n",
        "plt.title('Training and test accuracy')\n",
        "plt.xlabel('Epochs')\n",
        "plt.ylabel('Accuracy')\n",
        "plt.legend()\n",
        "plt.show()"
      ],
      "execution_count": 0,
      "outputs": [
        {
          "output_type": "display_data",
          "data": {
            "image/png": "[encoded data removed]",
            "text/plain": [
              "<Figure size 432x288 with 1 Axes>"
            ]
          },
          "metadata": {
            "tags": []
          }
        }
      ]
    },
    {
      "cell_type": "markdown",
      "metadata": {
        "colab_type": "text",
        "id": "41y6ZjnUB1xT"
      },
      "source": [
        "#This is for the under fit."
      ]
    },
    {
      "cell_type": "code",
      "metadata": {
        "colab_type": "code",
        "outputId": "4e0755bc-79bf-446d-e1e8-f0d22e0a42bf",
        "id": "EmU1TQCSB1xV",
        "colab": {
          "base_uri": "https://localhost:8080/",
          "height": 303
        }
      },
      "source": [
        "# set up the layers\n",
        "\n",
        "model = keras.Sequential([\n",
        "    keras.layers.Dense(4, activation='relu', input_shape=(28*28,)),\n",
        "    #keras.layers.Dense(12, activation='relu'),\n",
        "    keras.layers.Dropout(.75),\n",
        "    keras.layers.Dense(10, activation='softmax')\n",
        "])\n",
        "model.summary()"
      ],
      "execution_count": 0,
      "outputs": [
        {
          "output_type": "stream",
          "text": [
            "WARNING:tensorflow:Large dropout rate: 0.75 (>0.5). In TensorFlow 2.x, dropout() uses dropout rate instead of keep_prob. Please ensure that this is intended.\n",
            "Model: \"sequential_6\"\n",
            "_________________________________________________________________\n",
            "Layer (type)                 Output Shape              Param #   \n",
            "=================================================================\n",
            "dense_17 (Dense)             (None, 4)                 3140      \n",
            "_________________________________________________________________\n",
            "dropout_3 (Dropout)          (None, 4)                 0         \n",
            "_________________________________________________________________\n",
            "dense_18 (Dense)             (None, 10)                50        \n",
            "=================================================================\n",
            "Total params: 3,190\n",
            "Trainable params: 3,190\n",
            "Non-trainable params: 0\n",
            "_________________________________________________________________\n"
          ],
          "name": "stdout"
        }
      ]
    },
    {
      "cell_type": "code",
      "metadata": {
        "colab_type": "code",
        "id": "LurQhwR_B1xZ",
        "colab": {}
      },
      "source": [
        "# compile the model\n",
        "\n",
        "model.compile(optimizer='adam',\n",
        "             loss='sparse_categorical_crossentropy',\n",
        "             metrics=['accuracy'])"
      ],
      "execution_count": 0,
      "outputs": []
    },
    {
      "cell_type": "code",
      "metadata": {
        "colab_type": "code",
        "outputId": "e1b35b05-e16c-46cd-a87a-c20cf9a2637e",
        "id": "FN7LZ8JQB1xd",
        "colab": {
          "base_uri": "https://localhost:8080/",
          "height": 765
        }
      },
      "source": [
        "# train the model\n",
        "epochs = 20\n",
        "history = model.fit(train_images, \n",
        "                      train_labels, \n",
        "                      epochs=epochs,  \n",
        "                      validation_data=(test_images, test_labels))"
      ],
      "execution_count": 0,
      "outputs": [
        {
          "output_type": "stream",
          "text": [
            "Train on 60000 samples, validate on 10000 samples\n",
            "Epoch 1/20\n",
            "60000/60000 [==============================] - 6s 105us/sample - loss: 2.1804 - acc: 0.1485 - val_loss: 1.6333 - val_acc: 0.5315\n",
            "Epoch 2/20\n",
            "60000/60000 [==============================] - 6s 102us/sample - loss: 1.9860 - acc: 0.2024 - val_loss: 1.5247 - val_acc: 0.5871\n",
            "Epoch 3/20\n",
            "60000/60000 [==============================] - 6s 103us/sample - loss: 1.9745 - acc: 0.2024 - val_loss: 1.4816 - val_acc: 0.5963\n",
            "Epoch 4/20\n",
            "60000/60000 [==============================] - 6s 102us/sample - loss: 1.9683 - acc: 0.2032 - val_loss: 1.4589 - val_acc: 0.6359\n",
            "Epoch 5/20\n",
            "60000/60000 [==============================] - 6s 101us/sample - loss: 1.9622 - acc: 0.2058 - val_loss: 1.4574 - val_acc: 0.6211\n",
            "Epoch 6/20\n",
            "60000/60000 [==============================] - 6s 103us/sample - loss: 1.9573 - acc: 0.2051 - val_loss: 1.4781 - val_acc: 0.6213\n",
            "Epoch 7/20\n",
            "60000/60000 [==============================] - 6s 102us/sample - loss: 1.9553 - acc: 0.2055 - val_loss: 1.4812 - val_acc: 0.6076\n",
            "Epoch 8/20\n",
            "60000/60000 [==============================] - 6s 103us/sample - loss: 1.9535 - acc: 0.2073 - val_loss: 1.4920 - val_acc: 0.5886\n",
            "Epoch 9/20\n",
            "60000/60000 [==============================] - 6s 102us/sample - loss: 1.9555 - acc: 0.2033 - val_loss: 1.4633 - val_acc: 0.6022\n",
            "Epoch 10/20\n",
            "60000/60000 [==============================] - 6s 102us/sample - loss: 1.9558 - acc: 0.2077 - val_loss: 1.4449 - val_acc: 0.6168\n",
            "Epoch 11/20\n",
            "60000/60000 [==============================] - 6s 102us/sample - loss: 1.9531 - acc: 0.2096 - val_loss: 1.4598 - val_acc: 0.6107\n",
            "Epoch 12/20\n",
            "60000/60000 [==============================] - 6s 101us/sample - loss: 1.9519 - acc: 0.2101 - val_loss: 1.4631 - val_acc: 0.6258\n",
            "Epoch 13/20\n",
            "60000/60000 [==============================] - 6s 102us/sample - loss: 1.9504 - acc: 0.2135 - val_loss: 1.4571 - val_acc: 0.5830\n",
            "Epoch 14/20\n",
            "60000/60000 [==============================] - 6s 102us/sample - loss: 1.9481 - acc: 0.2156 - val_loss: 1.4400 - val_acc: 0.5932\n",
            "Epoch 15/20\n",
            "60000/60000 [==============================] - 6s 106us/sample - loss: 1.9476 - acc: 0.2192 - val_loss: 1.4329 - val_acc: 0.5908\n",
            "Epoch 16/20\n",
            "60000/60000 [==============================] - 6s 101us/sample - loss: 1.9482 - acc: 0.2189 - val_loss: 1.4495 - val_acc: 0.5846\n",
            "Epoch 17/20\n",
            "60000/60000 [==============================] - 6s 101us/sample - loss: 1.9500 - acc: 0.2173 - val_loss: 1.4335 - val_acc: 0.6097\n",
            "Epoch 18/20\n",
            "60000/60000 [==============================] - 6s 102us/sample - loss: 1.9464 - acc: 0.2222 - val_loss: 1.4955 - val_acc: 0.5647\n",
            "Epoch 19/20\n",
            "60000/60000 [==============================] - 6s 102us/sample - loss: 1.9495 - acc: 0.2222 - val_loss: 1.4477 - val_acc: 0.5902\n",
            "Epoch 20/20\n",
            "60000/60000 [==============================] - 6s 102us/sample - loss: 1.9446 - acc: 0.2217 - val_loss: 1.4519 - val_acc: 0.6241\n"
          ],
          "name": "stdout"
        }
      ]
    },
    {
      "cell_type": "code",
      "metadata": {
        "colab_type": "code",
        "outputId": "65934dd1-d7de-4120-eb7d-5caf69b38725",
        "id": "peyoH1XOB1xh",
        "colab": {
          "base_uri": "https://localhost:8080/",
          "height": 52
        }
      },
      "source": [
        "test_loss, test_acc = model.evaluate(test_images, test_labels)\n",
        "\n",
        "print('Test accuracy:', test_acc)"
      ],
      "execution_count": 0,
      "outputs": [
        {
          "output_type": "stream",
          "text": [
            "10000/10000 [==============================] - 1s 65us/sample - loss: 1.4519 - acc: 0.6241\n",
            "Test accuracy: 0.6241\n"
          ],
          "name": "stdout"
        }
      ]
    },
    {
      "cell_type": "code",
      "metadata": {
        "colab_type": "code",
        "id": "jbNJjfcEB1xn",
        "colab": {}
      },
      "source": [
        "history_dict = history.history\n",
        "loss_values = history_dict['loss']\n",
        "test_loss_values = history_dict['val_loss']\n",
        "epochs_range = range(1, epochs+1)"
      ],
      "execution_count": 0,
      "outputs": []
    },
    {
      "cell_type": "code",
      "metadata": {
        "colab_type": "code",
        "outputId": "6449bd70-10e7-41be-e9b2-66d0a5f6234e",
        "id": "Bxtp0aiLB1xy",
        "colab": {
          "base_uri": "https://localhost:8080/",
          "height": 294
        }
      },
      "source": [
        "plt.plot(epochs_range, loss_values, 'bo', label='Training loss')\n",
        "plt.plot(epochs_range, test_loss_values, 'ro', label='Test loss')\n",
        "plt.title('Training and test loss')\n",
        "plt.xlabel('Epochs')\n",
        "plt.ylabel('Loss')\n",
        "plt.legend()\n",
        "plt.show()"
      ],
      "execution_count": 0,
      "outputs": [
        {
          "output_type": "display_data",
          "data": {
            "image/png": "[encoded data removed]",
            "text/plain": [
              "<Figure size 432x288 with 1 Axes>"
            ]
          },
          "metadata": {
            "tags": []
          }
        }
      ]
    },
    {
      "cell_type": "code",
      "metadata": {
        "colab_type": "code",
        "id": "7ehbQIk5B1x6",
        "colab": {}
      },
      "source": [
        "acc_values = history_dict['acc']\n",
        "test_acc_values = history_dict['val_acc']"
      ],
      "execution_count": 0,
      "outputs": []
    },
    {
      "cell_type": "code",
      "metadata": {
        "colab_type": "code",
        "outputId": "a07f086d-2b04-4bfc-8a51-9dc814dca6af",
        "id": "eJUIzQqjB1yC",
        "colab": {
          "base_uri": "https://localhost:8080/",
          "height": 294
        }
      },
      "source": [
        "plt.plot(epochs_range, acc_values, 'bo', label='Training accuracy')\n",
        "plt.plot(epochs_range, test_acc_values, 'ro', label='Test accuracy')\n",
        "plt.title('Training and test accuracy')\n",
        "plt.xlabel('Epochs')\n",
        "plt.ylabel('Accuracy')\n",
        "plt.legend()\n",
        "plt.show()"
      ],
      "execution_count": 0,
      "outputs": [
        {
          "output_type": "display_data",
          "data": {
            "image/png": "[encoded data removed]",
            "text/plain": [
              "<Figure size 432x288 with 1 Axes>"
            ]
          },
          "metadata": {
            "tags": []
          }
        }
      ]
    }
  ]
}